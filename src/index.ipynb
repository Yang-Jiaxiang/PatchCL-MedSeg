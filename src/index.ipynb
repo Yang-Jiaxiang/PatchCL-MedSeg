{
 "cells": [
  {
   "cell_type": "code",
   "execution_count": null,
   "id": "2a0b8604",
   "metadata": {},
   "outputs": [],
   "source": [
    "import torch\n",
    "import torch.nn as nn\n",
    "import segmentation_models_pytorch as smp\n",
    "import math\n",
    "import time\n",
    "import sys\n",
    "import torch.nn.functional as F\n",
    "import os\n",
    "import numpy as np\n",
    "from torch.utils.data import DataLoader\n",
    "from torchvision import transforms\n",
    "import matplotlib.pyplot as plt\n",
    "\n",
    "sys.path.append('/tf/PatchCL-MedSeg')\n",
    "from dataloaders.dataset_kidney import BaseDatasets  \n",
    "from utils.stochastic_approx import StochasticApprox\n",
    "from utils.model import Network\n",
    "from utils.queues import Embedding_Queues\n",
    "from utils.CELOSS import CE_loss\n",
    "from utils.patch_utils import _get_patches\n",
    "from utils.aug_utils import batch_augment\n",
    "from utils.get_embds import get_embeddings\n",
    "from utils.const_reg import consistency_cost\n",
    "from utils.plg_loss import PCGJCL\n",
    "from utils.torch_poly_lr_decay import PolynomialLRDecay\n",
    "from utils.loss_file import save_loss, check_loss_file"
   ]
  },
  {
   "cell_type": "code",
   "execution_count": null,
   "id": "0ac6c08f",
   "metadata": {},
   "outputs": [],
   "source": []
  }
 ],
 "metadata": {
  "kernelspec": {
   "display_name": "Python 3 (ipykernel)",
   "language": "python",
   "name": "python3"
  },
  "language_info": {
   "codemirror_mode": {
    "name": "ipython",
    "version": 3
   },
   "file_extension": ".py",
   "mimetype": "text/x-python",
   "name": "python",
   "nbconvert_exporter": "python",
   "pygments_lexer": "ipython3",
   "version": "3.8.10"
  }
 },
 "nbformat": 4,
 "nbformat_minor": 5
}
